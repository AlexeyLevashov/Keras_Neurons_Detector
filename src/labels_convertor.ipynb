{
 "cells": [
  {
   "cell_type": "code",
   "execution_count": 44,
   "metadata": {},
   "outputs": [],
   "source": [
    "import os\n",
    "import cv2\n",
    "import os.path as osp\n",
    "import glob\n",
    "import xml.etree.ElementTree as ET\n",
    "from xml.dom import minidom\n",
    "import tqdm"
   ]
  },
  {
   "cell_type": "markdown",
   "metadata": {},
   "source": [
    "# Utils"
   ]
  },
  {
   "cell_type": "code",
   "execution_count": 13,
   "metadata": {},
   "outputs": [],
   "source": [
    "class Rect:\n",
    "    def __init__(self, x=0, y=0, w=0, h=0):\n",
    "        self.x = x\n",
    "        self.y = y\n",
    "        self.w = w\n",
    "        self.h = h\n",
    "        \n",
    "def load_rects(rects_filepath):\n",
    "    f = open(rects_filepath, 'r')\n",
    "    rects = []\n",
    "    rects_count = int(f.readline())\n",
    "    for j in range(0, rects_count):\n",
    "        rect_values = str(f.readline()).split(' ')\n",
    "        rect = Rect(int(rect_values[0]), int(rect_values[1]), int(rect_values[2]), int(rect_values[3]))\n",
    "        rects.append(rect)\n",
    "    return rects"
   ]
  },
  {
   "cell_type": "markdown",
   "metadata": {},
   "source": [
    "# Input"
   ]
  },
  {
   "cell_type": "code",
   "execution_count": 38,
   "metadata": {},
   "outputs": [],
   "source": [
    "data_dir = '../data/labeled_images/'"
   ]
  },
  {
   "cell_type": "markdown",
   "metadata": {},
   "source": [
    "# Conversion"
   ]
  },
  {
   "cell_type": "code",
   "execution_count": 39,
   "metadata": {
    "scrolled": false
   },
   "outputs": [
    {
     "data": {
      "text/plain": [
       "61"
      ]
     },
     "execution_count": 39,
     "metadata": {},
     "output_type": "execute_result"
    }
   ],
   "source": [
    "annotations = list(glob.glob(osp.join(data_dir, '*.txt')))\n",
    "len(annotations)"
   ]
  },
  {
   "cell_type": "code",
   "execution_count": 45,
   "metadata": {
    "scrolled": true
   },
   "outputs": [
    {
     "data": {
      "text/plain": [
       "HBox(children=(IntProgress(value=0, max=61), HTML(value='')))"
      ]
     },
     "metadata": {},
     "output_type": "display_data"
    }
   ],
   "source": [
    "images = {osp.basename(p): cv2.imread(osp.splitext(p)[0] + '.jpg').shape for p in tqdm.tqdm_notebook(annotations)}"
   ]
  },
  {
   "cell_type": "code",
   "execution_count": 52,
   "metadata": {},
   "outputs": [],
   "source": [
    "def convert_to_xml(xml_path, image_path, rects):\n",
    "    txt_path = osp.basename(osp.splitext(image_path)[0] + '.txt')\n",
    "    root = ET.Element(\"annotation\")\n",
    "    root.set('verified', 'yes')\n",
    "    ET.SubElement(root, \"folder\").text = 'labeled_images'\n",
    "    ET.SubElement(root, \"filename\").text = osp.basename(image_path)\n",
    "    ET.SubElement(root, \"path\").text = image_path\n",
    "    ET.SubElement(ET.SubElement(root, \"source\"), \"database\").text = 'Unknown'\n",
    "    image_size = ET.SubElement(root, \"size\")\n",
    "    ET.SubElement(image_size, \"width\").text = str(images[txt_path][1])\n",
    "    ET.SubElement(image_size, \"height\").text = str(images[txt_path][0])\n",
    "    ET.SubElement(image_size, \"depth\").text = str(images[txt_path][2])\n",
    "    ET.SubElement(root, \"segmented\").text = \"0\"\n",
    "    \n",
    "    for rect in rects:\n",
    "        obj = ET.SubElement(root, \"object\")\n",
    "        ET.SubElement(obj, \"name\").text = \"neuron\"\n",
    "        ET.SubElement(obj, \"truncated\").text = \"0\"\n",
    "        ET.SubElement(obj, \"difficult\").text = \"0\"\n",
    "        bnd_box = ET.SubElement(obj, \"bndbox\")\n",
    "        ET.SubElement(bnd_box, \"xmin\").text = str(rect.x)\n",
    "        ET.SubElement(bnd_box, \"ymin\").text = str(rect.y)\n",
    "        ET.SubElement(bnd_box, \"xmax\").text = str(rect.x + rect.w)\n",
    "        ET.SubElement(bnd_box, \"ymax\").text = str(rect.y + rect.h)\n",
    "    \n",
    "    xmlstr = minidom.parseString(ET.tostring(root)).toprettyxml(indent=\"\\t\")\n",
    "    with open(xml_path, \"w\") as f:\n",
    "        f.write(xmlstr)\n",
    "        \n",
    "\n",
    "images_rects = dict()\n",
    "for image_annotation_path in annotations:\n",
    "    image_path = osp.splitext(image_annotation_path)[0] + '.jpg'\n",
    "    xml_path = osp.splitext(image_annotation_path)[0] + '.xml'\n",
    "    \n",
    "    rects = load_rects(image_annotation_path)\n",
    "    images_rects[image_path] = rects\n",
    "    \n",
    "    convert_to_xml(xml_path, image_path, rects)"
   ]
  },
  {
   "cell_type": "code",
   "execution_count": null,
   "metadata": {},
   "outputs": [],
   "source": []
  }
 ],
 "metadata": {
  "kernelspec": {
   "display_name": "Python 3",
   "language": "python",
   "name": "python3"
  },
  "language_info": {
   "codemirror_mode": {
    "name": "ipython",
    "version": 3
   },
   "file_extension": ".py",
   "mimetype": "text/x-python",
   "name": "python",
   "nbconvert_exporter": "python",
   "pygments_lexer": "ipython3",
   "version": "3.6.5"
  }
 },
 "nbformat": 4,
 "nbformat_minor": 2
}
