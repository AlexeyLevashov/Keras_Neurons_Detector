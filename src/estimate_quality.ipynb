{
 "cells": [
  {
   "cell_type": "code",
   "execution_count": null,
   "metadata": {},
   "outputs": [],
   "source": [
    "import numpy as np\n",
    "import os.path as osp\n",
    "import cv2\n",
    "import time\n",
    "import tqdm\n",
    "import matplotlib.pyplot as plt\n",
    "import matplotlib.image as mpimg\n",
    "import keras.backend as K\n",
    "%matplotlib inline"
   ]
  },
  {
   "cell_type": "code",
   "execution_count": null,
   "metadata": {
    "scrolled": true
   },
   "outputs": [],
   "source": [
    "%load_ext autoreload\n",
    "%autoreload 2\n",
    "\n",
    "import modules.utils\n",
    "import modules.detector\n",
    "from modules.geometry import RectsImage\n",
    "from modules.images_viewer import ImagesViewer\n",
    "from modules.dataset import Dataset\n",
    "from modules.detector import FCNDetector\n",
    "from modules.images_viewer import ImagesViewer\n",
    "from modules.quality import compute_quality, compute_average_precision, find_optimal_threshold, get_precision_recall_curve\n",
    "import modules.models.loader as loader\n",
    "import config"
   ]
  },
  {
   "cell_type": "code",
   "execution_count": null,
   "metadata": {
    "collapsed": true
   },
   "outputs": [],
   "source": [
    "def show(image, size_w=8, size_h=8):\n",
    "    image = image[:, :, ::-1]\n",
    "    plt.figure(figsize=(size_w, size_h))\n",
    "    plt.imshow(image)"
   ]
  },
  {
   "cell_type": "markdown",
   "metadata": {},
   "source": [
    "# Input"
   ]
  },
  {
   "cell_type": "code",
   "execution_count": null,
   "metadata": {
    "collapsed": true
   },
   "outputs": [],
   "source": [
    "detector = FCNDetector()"
   ]
  },
  {
   "cell_type": "code",
   "execution_count": null,
   "metadata": {
    "collapsed": true
   },
   "outputs": [],
   "source": [
    "dataset = Dataset()"
   ]
  },
  {
   "cell_type": "markdown",
   "metadata": {},
   "source": [
    "# Show image with rects"
   ]
  },
  {
   "cell_type": "code",
   "execution_count": null,
   "metadata": {
    "collapsed": true
   },
   "outputs": [],
   "source": [
    "image_data = dataset.images_data[0]\n",
    "if not config.load_all_images_to_ram:\n",
    "    image_data.load()\n",
    "image = image_data.image.copy()\n",
    "for true_rect in image_data.rects:\n",
    "    true_rect.draw(image, (0, 255, 0), 5)\n",
    "\n",
    "mask = cv2.resize(image_data.mask, (0, 0), fx=1.0/config.mask_downsample_rate, fy=1.0/config.mask_downsample_rate)\n",
    "nms_heat_map = detector.heat_map_nms(mask)\n",
    "rects = detector.obtain_rects(nms_heat_map, mask)\n",
    "reduced_rects = FCNDetector.rects_nms(rects)\n",
    "for rect in reduced_rects:\n",
    "    rect.draw(image, (255, 0, 0), 3)\n",
    "print(len(reduced_rects))\n",
    "show(image, 22, 22)\n",
    "if not config.load_all_images_to_ram:\n",
    "    image_data.release()"
   ]
  },
  {
   "cell_type": "markdown",
   "metadata": {},
   "source": [
    "# Check NMS"
   ]
  },
  {
   "cell_type": "code",
   "execution_count": null,
   "metadata": {
    "collapsed": true
   },
   "outputs": [],
   "source": [
    "for image_data in tqdm.tqdm_notebook(dataset.images_data):\n",
    "    if not config.load_all_images_to_ram:\n",
    "        image_data.load()\n",
    "    mask = cv2.resize(image_data.mask, (0, 0), fx=1.0/config.mask_downsample_rate, fy=1.0/config.mask_downsample_rate)\n",
    "    nms_heat_map = detector.heat_map_nms(mask)\n",
    "    rects = detector.obtain_rects(nms_heat_map, mask)\n",
    "    reduced_rects = FCNDetector.rects_nms(rects)\n",
    "    if len(image_data.rects) == len(reduced_rects):\n",
    "        print(\"{}:\\t ok\".format(image_data.image_name))\n",
    "    else:\n",
    "        print(\"{}:\\t missmatch {} != {}\".format(image_data.image_name, len(image_data.rects), len(reduced_rects)))\n",
    "        \n",
    "    if not config.load_all_images_to_ram:\n",
    "        image_data.release()"
   ]
  },
  {
   "cell_type": "markdown",
   "metadata": {},
   "source": [
    "# Check Quality"
   ]
  },
  {
   "cell_type": "code",
   "execution_count": null,
   "metadata": {
    "collapsed": true
   },
   "outputs": [],
   "source": [
    "quality_objects_union = []\n",
    "for image_data in tqdm.tqdm_notebook(dataset.images_data):\n",
    "    if not config.load_all_images_to_ram:\n",
    "        image_data.load()\n",
    "    mask = cv2.resize(image_data.mask, (0, 0), fx=1.0/config.mask_downsample_rate, fy=1.0/config.mask_downsample_rate)\n",
    "    nms_heat_map = detector.heat_map_nms(mask)\n",
    "    rects = detector.obtain_rects(nms_heat_map, mask)\n",
    "    reduced_rects = FCNDetector.rects_nms(rects)\n",
    "    quality_objects = compute_quality(image_data.rects, reduced_rects)\n",
    "    quality_objects_union.extend(quality_objects)\n",
    "    ap_rate = compute_average_precision(quality_objects)\n",
    "    th, best_precision, best_recall, best_f1 = find_optimal_threshold(quality_objects)\n",
    "    \n",
    "    if ap_rate > 0.9999 and best_precision > 0.9999 and best_recall > 0.9999:\n",
    "        print(\"{}:\\t ok\".format(image_data.image_name))\n",
    "    else:\n",
    "        print(\"{}:\\t missmatch {}\".format(image_data.image_name, best_recall))\n",
    "        \n",
    "    if not config.load_all_images_to_ram:\n",
    "        image_data.release()"
   ]
  },
  {
   "cell_type": "code",
   "execution_count": null,
   "metadata": {
    "collapsed": true
   },
   "outputs": [],
   "source": [
    "true_labels = []\n",
    "predictions = []\n",
    "for q in quality_objects:\n",
    "    true_labels.append(q.label)\n",
    "    predictions.append(q.prediction)\n",
    "precision, recall, thresholds = precision_recall_curve(true_labels, predictions)"
   ]
  },
  {
   "cell_type": "code",
   "execution_count": null,
   "metadata": {
    "collapsed": true
   },
   "outputs": [],
   "source": [
    "recall"
   ]
  },
  {
   "cell_type": "code",
   "execution_count": null,
   "metadata": {
    "collapsed": true
   },
   "outputs": [],
   "source": [
    "find_optimal_threshold(quality_objects_union)"
   ]
  },
  {
   "cell_type": "markdown",
   "metadata": {},
   "source": [
    "# Estimate Quality"
   ]
  },
  {
   "cell_type": "code",
   "execution_count": null,
   "metadata": {
    "scrolled": true
   },
   "outputs": [],
   "source": [
    "K.clear_session()\n",
    "fcn_model_module = loader.get_fcn_model_module()\n",
    "fcn_model = fcn_model_module.FCNModel()\n",
    "detector = FCNDetector(fcn_model.model, osp.join(fcn_model.weights_dir, 'best_weights.hdf5'))"
   ]
  },
  {
   "cell_type": "markdown",
   "metadata": {},
   "source": [
    "#### Check patching"
   ]
  },
  {
   "cell_type": "code",
   "execution_count": null,
   "metadata": {
    "scrolled": true
   },
   "outputs": [],
   "source": [
    "for i, image_data in enumerate(dataset.images_data):\n",
    "    if not config.load_all_images_to_ram:\n",
    "        image_data.load()\n",
    "    image = image_data.image\n",
    "    heat_map = detector.predict_heatmap_by_patching(image)\n",
    "    heat_map_full = detector.predict_heatmap(image)\n",
    "    heat_map = heat_map[:heat_map_full.shape[0], :heat_map_full.shape[1], :]\n",
    "    dif = np.abs(heat_map_full - heat_map)\n",
    "    dif_mask = dif > 0.02\n",
    "    nonzero_pixels_count = len(np.nonzero(dif_mask)[0])\n",
    "    print(\"{} {}: \\t{}\".format(i, image_data.image_name, nonzero_pixels_count))\n",
    "    if not config.load_all_images_to_ram:\n",
    "        image_data.release()"
   ]
  },
  {
   "cell_type": "markdown",
   "metadata": {},
   "source": [
    "### One Image Processing"
   ]
  },
  {
   "cell_type": "code",
   "execution_count": null,
   "metadata": {
    "scrolled": true
   },
   "outputs": [],
   "source": [
    "image_data = dataset.images_data[25]\n",
    "if not config.load_all_images_to_ram:\n",
    "    image_data.load()\n",
    "print(image_data.image_name)\n",
    "image = image_data.image"
   ]
  },
  {
   "cell_type": "code",
   "execution_count": null,
   "metadata": {},
   "outputs": [],
   "source": [
    "%%time\n",
    "heat_map = detector.predict_heatmap_by_patching(image)"
   ]
  },
  {
   "cell_type": "code",
   "execution_count": null,
   "metadata": {
    "collapsed": true
   },
   "outputs": [],
   "source": [
    "nms_heat_map = detector.heat_map_nms(heat_map)"
   ]
  },
  {
   "cell_type": "code",
   "execution_count": null,
   "metadata": {
    "collapsed": true
   },
   "outputs": [],
   "source": [
    "rects = detector.obtain_rects(nms_heat_map, heat_map)\n",
    "reduced_rects = FCNDetector.rects_nms(rects)"
   ]
  },
  {
   "cell_type": "code",
   "execution_count": null,
   "metadata": {
    "collapsed": true
   },
   "outputs": [],
   "source": [
    "quality_objects = compute_quality(dataset.images_data[0].rects, reduced_rects)"
   ]
  },
  {
   "cell_type": "code",
   "execution_count": null,
   "metadata": {
    "collapsed": true
   },
   "outputs": [],
   "source": [
    "ap_rate = compute_average_precision(quality_objects)\n",
    "ap_rate"
   ]
  },
  {
   "cell_type": "code",
   "execution_count": null,
   "metadata": {
    "collapsed": true
   },
   "outputs": [],
   "source": [
    "threshold, precision, recall, f1_score = find_optimal_threshold(quality_objects)"
   ]
  },
  {
   "cell_type": "code",
   "execution_count": null,
   "metadata": {
    "collapsed": true
   },
   "outputs": [],
   "source": [
    "threshold, precision, recall, f1_score"
   ]
  },
  {
   "cell_type": "code",
   "execution_count": null,
   "metadata": {
    "collapsed": true
   },
   "outputs": [],
   "source": [
    "precision, recall, thresholds = get_precision_recall_curve(quality_objects)"
   ]
  },
  {
   "cell_type": "code",
   "execution_count": null,
   "metadata": {
    "collapsed": true
   },
   "outputs": [],
   "source": [
    "for i in range(len(precision)):\n",
    "    print(\"{} {}\".format(precision[i], recall[i]))"
   ]
  },
  {
   "cell_type": "code",
   "execution_count": null,
   "metadata": {
    "collapsed": true
   },
   "outputs": [],
   "source": [
    "filtered_rects = [rect for rect in reduced_rects if rect.score > threshold]\n",
    "print(len(reduced_rects))\n",
    "print(len(filtered_rects))"
   ]
  },
  {
   "cell_type": "code",
   "execution_count": null,
   "metadata": {
    "collapsed": true
   },
   "outputs": [],
   "source": [
    "image_with_rects = image_data.image.copy()\n",
    "for true_rect in image_data.rects:\n",
    "    true_rect.draw(image_with_rects, (0, 255, 0), 5)\n",
    "for rect in filtered_rects:\n",
    "    rect.draw(image_with_rects, (255, 0, 0), 3)"
   ]
  },
  {
   "cell_type": "code",
   "execution_count": null,
   "metadata": {
    "collapsed": true
   },
   "outputs": [],
   "source": [
    "images_viewer = ImagesViewer()\n",
    "images_viewer.set_images([image, image_with_rects, heat_map*255, nms_heat_map*255])\n",
    "images_viewer.run()"
   ]
  },
  {
   "cell_type": "markdown",
   "metadata": {},
   "source": [
    "#### Compare overalapping prediction and whole image prediction"
   ]
  },
  {
   "cell_type": "code",
   "execution_count": null,
   "metadata": {},
   "outputs": [],
   "source": [
    "%%time\n",
    "heat_map1 = detector.predict_heatmap(image)"
   ]
  },
  {
   "cell_type": "code",
   "execution_count": null,
   "metadata": {},
   "outputs": [],
   "source": [
    "show(heat_map1)"
   ]
  },
  {
   "cell_type": "code",
   "execution_count": null,
   "metadata": {},
   "outputs": [],
   "source": [
    "%%time\n",
    "heat_map = detector.predict_heatmap_by_patching(image)"
   ]
  },
  {
   "cell_type": "code",
   "execution_count": null,
   "metadata": {},
   "outputs": [],
   "source": [
    "show(heat_map)"
   ]
  },
  {
   "cell_type": "code",
   "execution_count": null,
   "metadata": {},
   "outputs": [],
   "source": [
    "dif = np.abs(heat_map - heat_map1)\n",
    "dif.max(), dif.mean()"
   ]
  },
  {
   "cell_type": "code",
   "execution_count": null,
   "metadata": {
    "collapsed": true
   },
   "outputs": [],
   "source": [
    "images_viewer = ImagesViewer()\n",
    "images_viewer.set_images([image_data.image, heat_map*255, heat_map1*255, dif*255])\n",
    "images_viewer.run()"
   ]
  },
  {
   "cell_type": "markdown",
   "metadata": {},
   "source": [
    "### Quality over the all images"
   ]
  },
  {
   "cell_type": "code",
   "execution_count": null,
   "metadata": {
    "collapsed": true
   },
   "outputs": [],
   "source": [
    "def get_quality_objects(image_data):\n",
    "    if not config.load_all_images_to_ram:\n",
    "        image_data.load()\n",
    "    mask = detector.predict_heatmap(image_data.image)\n",
    "    nms_heat_map = detector.heat_map_nms(mask)\n",
    "    rects = detector.obtain_rects(nms_heat_map, mask)\n",
    "    reduced_rects = FCNDetector.rects_nms(rects)\n",
    "    quality_objects = compute_quality(image_data.rects, reduced_rects)\n",
    "    ap_rate = compute_average_precision(quality_objects)\n",
    "    \n",
    "    print(\"{}:\\t {}\".format(image_data.image_name, ap_rate))\n",
    "\n",
    "    if not config.load_all_images_to_ram:\n",
    "        image_data.release()\n",
    "        \n",
    "    return quality_objects"
   ]
  },
  {
   "cell_type": "code",
   "execution_count": null,
   "metadata": {
    "collapsed": true
   },
   "outputs": [],
   "source": [
    "train_quality_objects = []\n",
    "for i in tqdm.tqdm_notebook(dataset.train_indices):\n",
    "    image_data = dataset.images_data[i]\n",
    "    train_quality_objects.extend(get_quality_objects(image_data))\n",
    "\n",
    "test_quality_objects = []\n",
    "for i in tqdm.tqdm_notebook(dataset.test_indices):\n",
    "    image_data = dataset.images_data[i]\n",
    "    test_quality_objects.extend(get_quality_objects(image_data))    \n",
    "\n",
    "train_ap_rate = compute_average_precision(train_quality_objects)\n",
    "print(\"Train AP: {}\".format(train_ap_rate))\n",
    "test_ap_rate = compute_average_precision(test_quality_objects)\n",
    "print(\"Test AP: {}\".format(test_ap_rate))"
   ]
  },
  {
   "cell_type": "code",
   "execution_count": null,
   "metadata": {
    "collapsed": true
   },
   "outputs": [],
   "source": [
    "threshold, best_precision, best_recall, best_f1 = find_optimal_threshold(train_quality_objects)\n",
    "print(\"Train F1 score {}, precision {}, recall {}\".format(best_f1, best_precision, best_recall))\n",
    "threshold, best_precision, best_recall, best_f1 = find_optimal_threshold(test_quality_objects)\n",
    "print(\"Test F1 score {}, precision {}, recall {}\".format(best_f1, best_precision, best_recall))"
   ]
  },
  {
   "cell_type": "code",
   "execution_count": null,
   "metadata": {
    "collapsed": true
   },
   "outputs": [],
   "source": []
  }
 ],
 "metadata": {
  "kernelspec": {
   "display_name": "Python 3",
   "language": "python",
   "name": "python3"
  },
  "language_info": {
   "codemirror_mode": {
    "name": "ipython",
    "version": 3
   },
   "file_extension": ".py",
   "mimetype": "text/x-python",
   "name": "python",
   "nbconvert_exporter": "python",
   "pygments_lexer": "ipython3",
   "version": "3.6.5"
  }
 },
 "nbformat": 4,
 "nbformat_minor": 2
}
