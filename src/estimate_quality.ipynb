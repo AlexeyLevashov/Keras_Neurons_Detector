{
 "cells": [
  {
   "cell_type": "code",
   "execution_count": null,
   "metadata": {},
   "outputs": [],
   "source": [
    "import numpy as np\n",
    "import os.path as osp\n",
    "import cv2\n",
    "import time\n",
    "import tqdm\n",
    "import matplotlib.pyplot as plt\n",
    "import matplotlib.image as mpimg\n",
    "import keras.backend as K"
   ]
  },
  {
   "cell_type": "code",
   "execution_count": null,
   "metadata": {},
   "outputs": [],
   "source": [
    "%load_ext autoreload\n",
    "%autoreload 2\n",
    "\n",
    "from modules.dataset import Dataset\n",
    "from modules.detector import FCNDetector\n",
    "from modules.images_viewer import ImagesViewer\n",
    "from modules.quality import compute_quality, compute_average_precision, find_optimal_threshold\n",
    "import modules.models.loader as loader\n",
    "import modules.models.simple_model\n",
    "import config"
   ]
  },
  {
   "cell_type": "code",
   "execution_count": null,
   "metadata": {},
   "outputs": [],
   "source": [
    "def show(image, size_w=8, size_h=8):\n",
    "    image = image[:, :, ::-1]\n",
    "    plt.figure(figsize=(size_w, size_h))\n",
    "    plt.imshow(image)"
   ]
  },
  {
   "cell_type": "markdown",
   "metadata": {},
   "source": [
    "# Input"
   ]
  },
  {
   "cell_type": "code",
   "execution_count": null,
   "metadata": {},
   "outputs": [],
   "source": [
    "dataset = Dataset()\n",
    "detector = FCNDetector()"
   ]
  },
  {
   "cell_type": "markdown",
   "metadata": {},
   "source": [
    "# Show image with rects"
   ]
  },
  {
   "cell_type": "raw",
   "metadata": {},
   "source": [
    "image_data = dataset.images_data[0]\n",
    "if not config.load_all_images_to_ram:\n",
    "    image_data.load()\n",
    "image = image_data.image.copy()\n",
    "for true_rect in image_data.rects:\n",
    "    true_rect.draw(image, (0, 255, 0), 2)\n",
    "\n",
    "mask = cv2.resize(image_data.mask, (0, 0), fx=1.0/config.mask_downsample_rate, fy=1.0/config.mask_downsample_rate)\n",
    "nms_heat_map = detector.heat_map_nms(mask)\n",
    "rects = detector.obtain_rects(nms_heat_map, mask)\n",
    "reduced_rects = FCNDetector.rects_nms(rects)\n",
    "for rect in reduced_rects:\n",
    "    rect.draw(image, (255, 0, 0), 1)\n",
    "print(len(reduced_rects))\n",
    "show(image, 24, 24)\n",
    "if not config.load_all_images_to_ram:\n",
    "    image_data.release()"
   ]
  },
  {
   "cell_type": "markdown",
   "metadata": {},
   "source": [
    "# Check NMS"
   ]
  },
  {
   "cell_type": "code",
   "execution_count": null,
   "metadata": {},
   "outputs": [],
   "source": [
    "for image_data in tqdm.tqdm_notebook(dataset.images_data):\n",
    "    if not config.load_all_images_to_ram:\n",
    "        image_data.load()\n",
    "    mask = cv2.resize(image_data.mask, (0, 0), fx=1.0/config.mask_downsample_rate, fy=1.0/config.mask_downsample_rate)\n",
    "    nms_heat_map = detector.heat_map_nms(mask)\n",
    "    rects = detector.obtain_rects(nms_heat_map, mask)\n",
    "    reduced_rects = FCNDetector.rects_nms(rects)\n",
    "    if len(image_data.rects) == len(reduced_rects):\n",
    "        print(\"{}:\\t ok\".format(image_data.image_name))\n",
    "    else:\n",
    "        print(\"{}:\\t missmatch {} != {}\".format(image_data.image_name, len(image_data.rects), len(reduced_rects)))\n",
    "        \n",
    "    if not config.load_all_images_to_ram:\n",
    "        image_data.release()"
   ]
  },
  {
   "cell_type": "markdown",
   "metadata": {},
   "source": [
    "# Check Quality"
   ]
  },
  {
   "cell_type": "code",
   "execution_count": null,
   "metadata": {},
   "outputs": [],
   "source": [
    "quality_objects_union = []\n",
    "for image_data in tqdm.tqdm_notebook(dataset.images_data):\n",
    "    if not config.load_all_images_to_ram:\n",
    "        image_data.load()\n",
    "    mask = cv2.resize(image_data.mask, (0, 0), fx=1.0/config.mask_downsample_rate, fy=1.0/config.mask_downsample_rate)\n",
    "    nms_heat_map = detector.heat_map_nms(mask)\n",
    "    rects = detector.obtain_rects(nms_heat_map, mask)\n",
    "    reduced_rects = FCNDetector.rects_nms(rects)\n",
    "    quality_objects = compute_quality(image_data.rects, reduced_rects)\n",
    "    quality_objects_union.extend(quality_objects)\n",
    "    auc_rate = compute_average_precision(quality_objects)\n",
    "    if auc_rate > 0.9999:\n",
    "        print(\"{}:\\t ok\".format(image_data.image_name))\n",
    "    else:\n",
    "        print(\"{}:\\t missmatch {}\".format(image_data.image_name, auc_rate))\n",
    "        \n",
    "    if not config.load_all_images_to_ram:\n",
    "        image_data.release()"
   ]
  },
  {
   "cell_type": "code",
   "execution_count": null,
   "metadata": {},
   "outputs": [],
   "source": [
    "find_optimal_threshold(quality_objects_union)"
   ]
  },
  {
   "cell_type": "markdown",
   "metadata": {},
   "source": [
    "# Estimate Quality"
   ]
  },
  {
   "cell_type": "code",
   "execution_count": null,
   "metadata": {},
   "outputs": [],
   "source": [
    "K.clear_session()\n",
    "fcn_model_module = loader.get_fcn_model_module()\n",
    "fcn_model = fcn_model_module.FCNModel()\n",
    "detector = FCNDetector(fcn_model.model, osp.join(fcn_model.weights_dir, 'best_weights.hdf5'))"
   ]
  },
  {
   "cell_type": "code",
   "execution_count": null,
   "metadata": {},
   "outputs": [],
   "source": [
    "quality_objects_union = []\n",
    "for image_data in tqdm.tqdm_notebook(dataset.images_data):\n",
    "    if not config.load_all_images_to_ram:\n",
    "        image_data.load()\n",
    "    mask = detector.predict_heat_maps_batch(np.asarray([image_data.image]))\n",
    "    nms_heat_map = detector.heat_map_nms(mask)\n",
    "    rects = detector.obtain_rects(nms_heat_map, mask)\n",
    "    reduced_rects = FCNDetector.rects_nms(rects)\n",
    "    quality_objects = compute_quality(image_data.rects, reduced_rects)\n",
    "    quality_objects_union.extend(quality_objects)\n",
    "    auc_rate = compute_average_precision(quality_objects)\n",
    "    \n",
    "    print(\"{}:\\t {}\".format(auc_rate))\n",
    "\n",
    "    if not config.load_all_images_to_ram:\n",
    "        image_data.release()\n",
    "    break"
   ]
  },
  {
   "cell_type": "code",
   "execution_count": null,
   "metadata": {},
   "outputs": [],
   "source": []
  }
 ],
 "metadata": {
  "kernelspec": {
   "display_name": "Python 3",
   "language": "python",
   "name": "python3"
  },
  "language_info": {
   "codemirror_mode": {
    "name": "ipython",
    "version": 3
   },
   "file_extension": ".py",
   "mimetype": "text/x-python",
   "name": "python",
   "nbconvert_exporter": "python",
   "pygments_lexer": "ipython3",
   "version": "3.6.5"
  }
 },
 "nbformat": 4,
 "nbformat_minor": 2
}
